{
 "cells": [
  {
   "cell_type": "code",
   "id": "initial_id",
   "metadata": {
    "collapsed": true,
    "ExecuteTime": {
     "end_time": "2025-10-26T18:18:13.523046Z",
     "start_time": "2025-10-26T18:18:13.520588Z"
    }
   },
   "source": "import qrcode",
   "outputs": [],
   "execution_count": 9
  },
  {
   "metadata": {
    "ExecuteTime": {
     "end_time": "2025-10-26T18:18:14.013247Z",
     "start_time": "2025-10-26T18:18:14.010578Z"
    }
   },
   "cell_type": "code",
   "source": [
    "def generate_qr_code(data,filename):\n",
    "    qr = qrcode.QRCode(\n",
    "        version = 1,\n",
    "        error_correct = qrcode.constants.ERROR_CORRECT_L,\n",
    "        box_size = 10,\n",
    "        border = 4\n",
    "    )\n",
    "    qr.add_data(data)\n",
    "    qr.make(fit=True)\n",
    "\n",
    "    img = qr.make_image(fill_color = 'black', back_color = 'white')\n",
    "    img.save(filename)"
   ],
   "id": "8e84ef0106b25022",
   "outputs": [],
   "execution_count": 10
  },
  {
   "metadata": {
    "ExecuteTime": {
     "end_time": "2025-10-26T18:18:14.308488Z",
     "start_time": "2025-10-26T18:18:14.281400Z"
    }
   },
   "cell_type": "code",
   "source": "generate_qr_code(r\"https://github.com/Sebastian426/Sebastian_Sloan_Computational_Physics\",\"Repo_QR_Code.png\")",
   "id": "c1bfee6d8292b2b7",
   "outputs": [
    {
     "ename": "AttributeError",
     "evalue": "module 'qrcode' has no attribute 'QRCode'",
     "output_type": "error",
     "traceback": [
      "\u001B[31m---------------------------------------------------------------------------\u001B[39m",
      "\u001B[31mAttributeError\u001B[39m                            Traceback (most recent call last)",
      "\u001B[36mCell\u001B[39m\u001B[36m \u001B[39m\u001B[32mIn[11]\u001B[39m\u001B[32m, line 1\u001B[39m\n\u001B[32m----> \u001B[39m\u001B[32m1\u001B[39m \u001B[43mgenerate_qr_code\u001B[49m\u001B[43m(\u001B[49m\u001B[33;43mr\u001B[39;49m\u001B[33;43m\"\u001B[39;49m\u001B[33;43mhttps://github.com/Sebastian426/Sebastian_Sloan_Computational_Physics\u001B[39;49m\u001B[33;43m\"\u001B[39;49m\u001B[43m,\u001B[49m\u001B[33;43m\"\u001B[39;49m\u001B[33;43mRepo_QR_Code.png\u001B[39;49m\u001B[33;43m\"\u001B[39;49m\u001B[43m)\u001B[49m\n",
      "\u001B[36mCell\u001B[39m\u001B[36m \u001B[39m\u001B[32mIn[10]\u001B[39m\u001B[32m, line 2\u001B[39m, in \u001B[36mgenerate_qr_code\u001B[39m\u001B[34m(data, filename)\u001B[39m\n\u001B[32m      1\u001B[39m \u001B[38;5;28;01mdef\u001B[39;00m\u001B[38;5;250m \u001B[39m\u001B[34mgenerate_qr_code\u001B[39m(data,filename):\n\u001B[32m----> \u001B[39m\u001B[32m2\u001B[39m     qr = \u001B[43mqrcode\u001B[49m\u001B[43m.\u001B[49m\u001B[43mQRCode\u001B[49m(\n\u001B[32m      3\u001B[39m         version = \u001B[32m1\u001B[39m,\n\u001B[32m      4\u001B[39m         error_correct = qrcode.constants.ERROR_CORRECT_L,\n\u001B[32m      5\u001B[39m         box_size = \u001B[32m10\u001B[39m,\n\u001B[32m      6\u001B[39m         border = \u001B[32m4\u001B[39m\n\u001B[32m      7\u001B[39m     )\n\u001B[32m      8\u001B[39m     qr.add_data(data)\n\u001B[32m      9\u001B[39m     qr.make(fit=\u001B[38;5;28;01mTrue\u001B[39;00m)\n",
      "\u001B[31mAttributeError\u001B[39m: module 'qrcode' has no attribute 'QRCode'"
     ]
    }
   ],
   "execution_count": 11
  },
  {
   "metadata": {
    "ExecuteTime": {
     "end_time": "2025-10-26T18:18:14.717888Z",
     "start_time": "2025-10-26T18:18:14.716476Z"
    }
   },
   "cell_type": "code",
   "source": "",
   "id": "86cf8f6cf833647a",
   "outputs": [],
   "execution_count": null
  },
  {
   "metadata": {},
   "cell_type": "code",
   "outputs": [],
   "execution_count": null,
   "source": "",
   "id": "798765a0c126bd86"
  }
 ],
 "metadata": {
  "kernelspec": {
   "display_name": "Python 3",
   "language": "python",
   "name": "python3"
  },
  "language_info": {
   "codemirror_mode": {
    "name": "ipython",
    "version": 2
   },
   "file_extension": ".py",
   "mimetype": "text/x-python",
   "name": "python",
   "nbconvert_exporter": "python",
   "pygments_lexer": "ipython2",
   "version": "2.7.6"
  }
 },
 "nbformat": 4,
 "nbformat_minor": 5
}
