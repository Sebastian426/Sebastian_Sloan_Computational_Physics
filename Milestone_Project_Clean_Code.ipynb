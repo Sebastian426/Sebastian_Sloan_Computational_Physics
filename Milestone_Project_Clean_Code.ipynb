{
 "cells": [
  {
   "cell_type": "code",
   "id": "initial_id",
   "metadata": {
    "collapsed": true,
    "ExecuteTime": {
     "end_time": "2025-10-26T12:52:33.017382Z",
     "start_time": "2025-10-26T12:52:33.014918Z"
    }
   },
   "source": [
    "import numpy as np\n",
    "import matplotlib.pyplot as plt"
   ],
   "outputs": [],
   "execution_count": 93
  },
  {
   "metadata": {
    "ExecuteTime": {
     "end_time": "2025-10-26T13:58:34.301391Z",
     "start_time": "2025-10-26T13:58:34.297613Z"
    }
   },
   "cell_type": "code",
   "source": [
    "# Setting Constants\n",
    "\n",
    "#position boundaries\n",
    "x_0 = 0\n",
    "x_endpoints = np.linspace(0,2,101)\n",
    "\n",
    "#time boundaries\n",
    "t_i = 0\n",
    "t_f = 6\n",
    "\n",
    "#other constants\n",
    "mass = 1\n",
    "steps = 7\n",
    "numb_paths = 1000\n",
    "\n",
    "#array of times\n",
    "times = np.linspace(t_i, t_f, steps)\n",
    "dt = times[1] - times [0]"
   ],
   "id": "5e8c54f514b735a7",
   "outputs": [],
   "execution_count": 167
  },
  {
   "metadata": {},
   "cell_type": "markdown",
   "source": "# Basic Path function and action integral",
   "id": "dad4d3eacb172358"
  },
  {
   "metadata": {
    "ExecuteTime": {
     "end_time": "2025-10-26T13:59:50.798432Z",
     "start_time": "2025-10-26T13:59:50.794952Z"
    }
   },
   "cell_type": "code",
   "source": [
    "#Creating the position generating function\n",
    "\n",
    "def Pos_Gen(x0, xN, Steps, noise_scale =0.3): #Generates smooth paths with noise\n",
    "    xs = np.linspace(x0, xN, Steps)\n",
    "    noise = np.random.normal(0, noise_scale, size=Steps)\n",
    "    noise[0] = 0.0\n",
    "    noise[-1] = 0.0\n",
    "    return xs + noise"
   ],
   "id": "298f30588714776f",
   "outputs": [],
   "execution_count": 168
  },
  {
   "metadata": {
    "ExecuteTime": {
     "end_time": "2025-10-26T14:00:04.493025Z",
     "start_time": "2025-10-26T14:00:04.489543Z"
    }
   },
   "cell_type": "code",
   "source": [
    "#Creating function to evaluate the action integral for a path\n",
    "\n",
    "def action_harmonic(positions, times, mass):\n",
    "\n",
    "    #Input Validation\n",
    "    if type(positions) != np.ndarray:\n",
    "        raise TypeError(\"WARNING: position input is not a numpy array\")\n",
    "    if type(times) != np.ndarray:\n",
    "        raise TypeError(\"WARNING: time input is not a numpy array\")\n",
    "\n",
    "    #Calculating the action using discrete steps and straight line approx\n",
    "    S = 0\n",
    "    for i in range(len(times)-1):\n",
    "        dt = times[i+1] - times[i]\n",
    "        dx = positions[i+1] - positions[i]\n",
    "        T = 0.5 * mass * (dx/dt)**2\n",
    "        V = 0.5 * (((positions[i]+positions[i+1])/2)**2)\n",
    "        S +=dt*(T + V)\n",
    "\n",
    "    return S"
   ],
   "id": "403a55e2c27a984f",
   "outputs": [],
   "execution_count": 169
  },
  {
   "metadata": {},
   "cell_type": "markdown",
   "source": "# Generating Paths and calculating weight of each path",
   "id": "b6b66a8f409763c0"
  },
  {
   "metadata": {
    "ExecuteTime": {
     "end_time": "2025-10-26T14:03:14.150787Z",
     "start_time": "2025-10-26T14:03:11.540560Z"
    }
   },
   "cell_type": "code",
   "source": [
    "paths = []\n",
    "weights = []\n",
    "x_end = []\n",
    "\n",
    "for xN in x_endpoints:\n",
    "    for _ in range(numb_paths):\n",
    "        p = Pos_Gen(x_0, xN, steps)\n",
    "        S = action_harmonic(p, times, mass)\n",
    "        w = np.exp(-S)\n",
    "        paths.append(p)\n",
    "        weights.append(w)\n",
    "        x_end.append(xN)\n",
    "\n",
    "paths = np.array(paths)\n",
    "weights = np.array(weights)\n",
    "x_end = np.array(x_end)"
   ],
   "id": "1b98f5c3b8a61301",
   "outputs": [],
   "execution_count": 171
  },
  {
   "metadata": {},
   "cell_type": "markdown",
   "source": "# Finding the groundstate wave function of the path",
   "id": "d8f454e8d0b9a77"
  },
  {
   "metadata": {
    "ExecuteTime": {
     "end_time": "2025-10-26T14:04:31.156308Z",
     "start_time": "2025-10-26T14:04:31.150777Z"
    }
   },
   "cell_type": "code",
   "source": [
    "x_bins = np.linspace(0,2,101)\n",
    "\n",
    "pdf_unnormalised, bin_edges = np.histogram(x_end, bins = x_bins, weights = weights)\n",
    "x_centres = 0.5*(bin_edges[1:] + bin_edges[:-1])\n",
    "dx = np.diff(x_bins)[0]\n",
    "\n",
    "# normalize to integrate to 0.5 (since we only use x > 0)\n",
    "area = np.sum(pdf_unnormalised * dx)\n",
    "pdf = pdf_unnormalised / (2 * area)\n",
    "\n",
    "# --- Analytic PDF for comparison (half side only) ---\n",
    "phi_sq_analytic = (1/np.sqrt(np.pi)) * np.exp(-x_centres**2)\n",
    "phi_sq_analytic /= 2 * np.sum(phi_sq_analytic * dx)  # normalize area to 0.5\n",
    "\n",
    "# --- Check areas ---\n",
    "print(f\"Numerical PDF area: {np.sum(pdf*dx):.5f}\")\n",
    "print(f\"Analytic PDF area: {np.sum(phi_sq_analytic*dx):.5f}\")"
   ],
   "id": "88affa29cddcbb88",
   "outputs": [
    {
     "name": "stdout",
     "output_type": "stream",
     "text": [
      "Numerical PDF area: 0.50000\n",
      "Analytic PDF area: 0.50000\n"
     ]
    }
   ],
   "execution_count": 172
  },
  {
   "metadata": {
    "ExecuteTime": {
     "end_time": "2025-10-26T14:08:57.510125Z",
     "start_time": "2025-10-26T14:08:57.414607Z"
    }
   },
   "cell_type": "code",
   "source": [
    "plt.figure(1)\n",
    "plt.scatter(x_centres, pdf, label='Path integral estimate',s = 3)\n",
    "plt.plot(x_centres, phi_sq_analytic, 'k--', label=r'Analytic $|\\phi_0(x)|^2$')\n",
    "plt.xlabel('x')\n",
    "plt.ylabel('Probability density')\n",
    "plt.legend()\n",
    "plt.show()"
   ],
   "id": "bea2a8c5b795a7c9",
   "outputs": [
    {
     "data": {
      "text/plain": [
       "<Figure size 640x480 with 1 Axes>"
      ],
      "image/png": "[encoded data removed]"
     },
     "metadata": {},
     "output_type": "display_data",
     "jetTransient": {
      "display_id": null
     }
    }
   ],
   "execution_count": 174
  },
  {
   "metadata": {
    "ExecuteTime": {
     "end_time": "2025-10-26T14:12:05.236680Z",
     "start_time": "2025-10-26T14:12:05.234087Z"
    }
   },
   "cell_type": "code",
   "source": [
    "i_099 = np.searchsorted(x_centres, 0.99)\n",
    "i_101 = np.searchsorted(x_centres, 1.01)\n",
    "\n",
    "print(pdf[i_099])"
   ],
   "id": "d836ea96f4da18bc",
   "outputs": [
    {
     "name": "stdout",
     "output_type": "stream",
     "text": [
      "0.2119086639324727\n"
     ]
    }
   ],
   "execution_count": 184
  },
  {
   "metadata": {},
   "cell_type": "code",
   "outputs": [],
   "execution_count": null,
   "source": "",
   "id": "68d405409dffcc42"
  }
 ],
 "metadata": {
  "kernelspec": {
   "display_name": "Python 3",
   "language": "python",
   "name": "python3"
  },
  "language_info": {
   "codemirror_mode": {
    "name": "ipython",
    "version": 2
   },
   "file_extension": ".py",
   "mimetype": "text/x-python",
   "name": "python",
   "nbconvert_exporter": "python",
   "pygments_lexer": "ipython2",
   "version": "2.7.6"
  }
 },
 "nbformat": 4,
 "nbformat_minor": 5
}
