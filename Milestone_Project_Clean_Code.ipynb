{
 "cells": [
  {
   "cell_type": "code",
   "id": "initial_id",
   "metadata": {
    "collapsed": true,
    "ExecuteTime": {
     "end_time": "2025-10-28T11:58:18.585871Z",
     "start_time": "2025-10-28T11:58:16.917418Z"
    }
   },
   "source": [
    "import numpy as np\n",
    "import matplotlib.pyplot as plt"
   ],
   "outputs": [],
   "execution_count": 1
  },
  {
   "metadata": {
    "ExecuteTime": {
     "end_time": "2025-10-28T11:58:20.154334Z",
     "start_time": "2025-10-28T11:58:20.144980Z"
    }
   },
   "cell_type": "code",
   "source": [
    "# Setting Constants\n",
    "\n",
    "#position boundaries\n",
    "x_0 = 0\n",
    "x_endpoints = np.linspace(0,2,101)\n",
    "\n",
    "#time boundaries\n",
    "t_i = 0\n",
    "t_f = 6\n",
    "\n",
    "#other constants\n",
    "mass = 1\n",
    "steps = 7\n",
    "numb_paths = 1000\n",
    "\n",
    "#array of times\n",
    "times = np.linspace(t_i, t_f, steps)\n",
    "dt = times[1] - times [0]\n",
    "print(x_endpoints)"
   ],
   "id": "5e8c54f514b735a7",
   "outputs": [
    {
     "name": "stdout",
     "output_type": "stream",
     "text": [
      "[0.   0.02 0.04 0.06 0.08 0.1  0.12 0.14 0.16 0.18 0.2  0.22 0.24 0.26\n",
      " 0.28 0.3  0.32 0.34 0.36 0.38 0.4  0.42 0.44 0.46 0.48 0.5  0.52 0.54\n",
      " 0.56 0.58 0.6  0.62 0.64 0.66 0.68 0.7  0.72 0.74 0.76 0.78 0.8  0.82\n",
      " 0.84 0.86 0.88 0.9  0.92 0.94 0.96 0.98 1.   1.02 1.04 1.06 1.08 1.1\n",
      " 1.12 1.14 1.16 1.18 1.2  1.22 1.24 1.26 1.28 1.3  1.32 1.34 1.36 1.38\n",
      " 1.4  1.42 1.44 1.46 1.48 1.5  1.52 1.54 1.56 1.58 1.6  1.62 1.64 1.66\n",
      " 1.68 1.7  1.72 1.74 1.76 1.78 1.8  1.82 1.84 1.86 1.88 1.9  1.92 1.94\n",
      " 1.96 1.98 2.  ]\n"
     ]
    }
   ],
   "execution_count": 2
  },
  {
   "metadata": {},
   "cell_type": "markdown",
   "source": "# Basic Path function and action integral",
   "id": "dad4d3eacb172358"
  },
  {
   "metadata": {
    "ExecuteTime": {
     "end_time": "2025-10-28T11:58:22.200226Z",
     "start_time": "2025-10-28T11:58:22.130385Z"
    }
   },
   "cell_type": "code",
   "source": [
    "#Creating the position generating function\n",
    "\n",
    "def Pos_Gen(x0, xN, Steps, noise_scale =0.3): #Generates smooth paths with noise\n",
    "    xs = np.linspace(x0, xN, Steps)\n",
    "    noise = np.random.normal(0, noise_scale, size=Steps)\n",
    "    noise[0] = 0.0\n",
    "    noise[-1] = 0.0\n",
    "    return xs + noise"
   ],
   "id": "298f30588714776f",
   "outputs": [],
   "execution_count": 3
  },
  {
   "metadata": {
    "ExecuteTime": {
     "end_time": "2025-10-28T11:58:22.686767Z",
     "start_time": "2025-10-28T11:58:22.680579Z"
    }
   },
   "cell_type": "code",
   "source": [
    "#Creating function to evaluate the action integral for a path\n",
    "\n",
    "def action_harmonic(positions, times, mass):\n",
    "\n",
    "    #Input Validation\n",
    "    if type(positions) != np.ndarray:\n",
    "        raise TypeError(\"WARNING: position input is not a numpy array\")\n",
    "    if type(times) != np.ndarray:\n",
    "        raise TypeError(\"WARNING: time input is not a numpy array\")\n",
    "\n",
    "    #Calculating the action using discrete steps and straight line approx\n",
    "    S = 0\n",
    "    for i in range(len(times)-1):\n",
    "        dt = times[i+1] - times[i]\n",
    "        dx = positions[i+1] - positions[i]\n",
    "        T = 0.5 * mass * (dx/dt)**2\n",
    "        V = 0.5 * (((positions[i]+positions[i+1])/2)**2)\n",
    "        S +=dt*(T + V)\n",
    "\n",
    "    return S"
   ],
   "id": "403a55e2c27a984f",
   "outputs": [],
   "execution_count": 4
  },
  {
   "metadata": {},
   "cell_type": "markdown",
   "source": "# Generating Paths and calculating weight of each path",
   "id": "b6b66a8f409763c0"
  },
  {
   "metadata": {
    "ExecuteTime": {
     "end_time": "2025-10-28T11:58:27.578125Z",
     "start_time": "2025-10-28T11:58:24.810535Z"
    }
   },
   "cell_type": "code",
   "source": [
    "paths = []\n",
    "weights = []\n",
    "x_end = []\n",
    "\n",
    "for xN in x_endpoints:\n",
    "    for _ in range(numb_paths):\n",
    "        p = Pos_Gen(x_0, xN, steps)\n",
    "        S = action_harmonic(p, times, mass)\n",
    "        w = np.exp(-S)\n",
    "        paths.append(p)\n",
    "        weights.append(w)\n",
    "        x_end.append(xN)\n",
    "\n",
    "paths = np.array(paths)\n",
    "weights = np.array(weights)\n",
    "x_end = np.array(x_end)"
   ],
   "id": "1b98f5c3b8a61301",
   "outputs": [],
   "execution_count": 5
  },
  {
   "metadata": {
    "ExecuteTime": {
     "end_time": "2025-10-28T11:58:28.815923Z",
     "start_time": "2025-10-28T11:58:28.811115Z"
    }
   },
   "cell_type": "code",
   "source": [
    "print(len(paths))\n",
    "print(paths[1001])"
   ],
   "id": "a9f46b0cccef5f08",
   "outputs": [
    {
     "name": "stdout",
     "output_type": "stream",
     "text": [
      "101000\n",
      "[ 0.          0.32425935 -0.04026399 -0.50824828 -0.16802788 -0.29315427\n",
      "  0.02      ]\n"
     ]
    }
   ],
   "execution_count": 6
  },
  {
   "metadata": {},
   "cell_type": "markdown",
   "source": "# Finding the groundstate wave function of the path",
   "id": "d8f454e8d0b9a77"
  },
  {
   "metadata": {
    "ExecuteTime": {
     "end_time": "2025-10-28T11:58:34.798262Z",
     "start_time": "2025-10-28T11:58:34.775006Z"
    }
   },
   "cell_type": "code",
   "source": [
    "x_bins = np.linspace(0,2,101)\n",
    "\n",
    "pdf_unnormalised, bin_edges = np.histogram(x_end, bins = x_bins, weights = weights)\n",
    "x_centres = 0.5*(bin_edges[1:] + bin_edges[:-1])\n",
    "dx = np.diff(x_bins)[0]\n",
    "\n",
    "# normalize to integrate to 0.5 (since we only use x > 0)\n",
    "area = np.sum(pdf_unnormalised * dx)\n",
    "pdf = pdf_unnormalised / (2 * area)\n",
    "\n",
    "# --- Analytic PDF for comparison (half side only) ---\n",
    "phi_sq_analytic = (1/np.sqrt(np.pi)) * np.exp(-x_centres**2)\n",
    "phi_sq_analytic /= 2 * np.sum(phi_sq_analytic * dx)  # normalize area to 0.5\n",
    "\n",
    "# --- Check areas ---\n",
    "print(f\"Numerical PDF area: {np.sum(pdf*dx):.5f}\")\n",
    "print(f\"Analytic PDF area: {np.sum(phi_sq_analytic*dx):.5f}\")"
   ],
   "id": "88affa29cddcbb88",
   "outputs": [
    {
     "name": "stdout",
     "output_type": "stream",
     "text": [
      "Numerical PDF area: 0.50000\n",
      "Analytic PDF area: 0.50000\n"
     ]
    }
   ],
   "execution_count": 7
  },
  {
   "metadata": {
    "ExecuteTime": {
     "end_time": "2025-10-28T11:58:36.404268Z",
     "start_time": "2025-10-28T11:58:36.050238Z"
    }
   },
   "cell_type": "code",
   "source": [
    "save_path = r\"C:\\Users\\Sebastian\\Documents\\University work\\Year 3\\Computational Physics\\Wavefunction.svg\"\n",
    "\n",
    "plt.figure(1)\n",
    "plt.scatter(x_centres, pdf, label='Path integral estimate',s = 3)\n",
    "plt.plot(x_centres, phi_sq_analytic, 'k--', label=r'Analytic $|\\phi_0(x)|^2$')\n",
    "plt.xlabel('x')\n",
    "plt.ylabel('Probability density')\n",
    "plt.savefig(save_path, bbox_inches='tight', format = 'svg')\n",
    "plt.show()"
   ],
   "id": "bea2a8c5b795a7c9",
   "outputs": [
    {
     "data": {
      "text/plain": [
       "<Figure size 640x480 with 1 Axes>"
      ],
      "image/png": "[encoded data removed]"
     },
     "metadata": {},
     "output_type": "display_data",
     "jetTransient": {
      "display_id": null
     }
    }
   ],
   "execution_count": 8
  },
  {
   "metadata": {},
   "cell_type": "code",
   "source": [
    "i_099 = np.searchsorted(x_centres, 0.99)\n",
    "i_101 = np.searchsorted(x_centres, 1.01)"
   ],
   "id": "d836ea96f4da18bc",
   "outputs": [],
   "execution_count": 9
  },
  {
   "metadata": {},
   "cell_type": "markdown",
   "source": "# Plot for poster",
   "id": "98c9dbb6f9b84b09"
  },
  {
   "metadata": {},
   "cell_type": "code",
   "outputs": [],
   "execution_count": null,
   "source": "# create all extra data necessary and functions required\n",
   "id": "3005f262b6da9ce9"
  }
 ],
 "metadata": {
  "kernelspec": {
   "display_name": "Python 3",
   "language": "python",
   "name": "python3"
  },
  "language_info": {
   "codemirror_mode": {
    "name": "ipython",
    "version": 2
   },
   "file_extension": ".py",
   "mimetype": "text/x-python",
   "name": "python",
   "nbconvert_exporter": "python",
   "pygments_lexer": "ipython2",
   "version": "2.7.6"
  }
 },
 "nbformat": 4,
 "nbformat_minor": 5
}
