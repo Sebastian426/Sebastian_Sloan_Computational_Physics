{
 "cells": [
  {
   "cell_type": "code",
   "id": "initial_id",
   "metadata": {
    "collapsed": true,
    "ExecuteTime": {
     "end_time": "2025-10-26T10:52:41.281160Z",
     "start_time": "2025-10-26T10:52:40.676947Z"
    }
   },
   "source": [
    "import numpy as np\n",
    "import matplotlib.pyplot as plt"
   ],
   "outputs": [],
   "execution_count": 1
  },
  {
   "metadata": {},
   "cell_type": "markdown",
   "source": "# Defining constants and creating the Position generating function as well as the action for a harmonic potential",
   "id": "f802f55eee7c56bc"
  },
  {
   "metadata": {
    "ExecuteTime": {
     "end_time": "2025-10-26T10:52:44.838629Z",
     "start_time": "2025-10-26T10:52:44.835516Z"
    }
   },
   "cell_type": "code",
   "source": [
    "#Creating the position generating function\n",
    "\n",
    "def Pos_Gen(x_0, x_N, Steps): #Generates random array of positions\n",
    "\n",
    "    pos_list = [x_0]\n",
    "\n",
    "    for i in range(Steps-2):\n",
    "        r = np.random.uniform(x_0, x_N)\n",
    "        pos_list.append(r)\n",
    "\n",
    "    pos_list.append(x_N)\n",
    "    return np.array(pos_list)"
   ],
   "id": "59e485521f7278d",
   "outputs": [],
   "execution_count": 2
  },
  {
   "metadata": {
    "ExecuteTime": {
     "end_time": "2025-10-26T10:52:48.060711Z",
     "start_time": "2025-10-26T10:52:48.004786Z"
    }
   },
   "cell_type": "code",
   "source": [
    "#Define Constants, initialize arrays\n",
    "seed = 42\n",
    "\n",
    "#position start and end point\n",
    "x_0 = 0\n",
    "x_N = 2\n",
    "\n",
    "#time start and end point\n",
    "t_i = 0\n",
    "t_f = 4\n",
    "\n",
    "#other constants\n",
    "mass = 1\n",
    "steps = 7\n",
    "numb_paths = 10\n",
    "\n",
    "times = np.linspace(t_i, t_f, steps) #array of time steps, the times are float values\n",
    "\n",
    "positions = Pos_Gen(x_0, x_N, steps)\n",
    "\n",
    "print(f\"Times: {times}, which is a {type(times)} variable;\\nPositions: {positions}, which is a {type(positions)} variable\")"
   ],
   "id": "b5e0e97afa471c45",
   "outputs": [
    {
     "name": "stdout",
     "output_type": "stream",
     "text": [
      "Times: [0.         0.66666667 1.33333333 2.         2.66666667 3.33333333\n",
      " 4.        ], which is a <class 'numpy.ndarray'> variable;\n",
      "Positions: [0.         0.32191172 0.04320824 1.41136712 0.67686014 0.50434583\n",
      " 2.        ], which is a <class 'numpy.ndarray'> variable\n"
     ]
    }
   ],
   "execution_count": 3
  },
  {
   "metadata": {
    "ExecuteTime": {
     "end_time": "2025-10-26T10:52:48.599758Z",
     "start_time": "2025-10-26T10:52:48.591995Z"
    }
   },
   "cell_type": "code",
   "source": [
    "positions = Pos_Gen(x_0, x_N, steps)\n",
    "\n",
    "\n",
    "def action_harmonic(positions, times, mass):\n",
    "\n",
    "    #This function calculates the action integral for a path (positions)\n",
    "\n",
    "    #Input Validation\n",
    "    if type(positions) != np.ndarray:\n",
    "        raise TypeError(\"WARNING: position input is not a numpy array\")\n",
    "    if type(times) != np.ndarray:\n",
    "        raise TypeError(\"WARNING: time input is not a numpy array\")\n",
    "\n",
    "    #Calculating the action using discrete steps and straight line approx\n",
    "    S = 0\n",
    "    for i in range(len(times)-1):\n",
    "        dt = times[i+1] - times[i]\n",
    "        dx = positions[i+1] - positions[i]\n",
    "        T = 0.5 * mass * (dx/dt)**2\n",
    "        V = 0.5 * (((positions[i]+positions[i+1])/2)**2)\n",
    "        S += dt*(T + V)\n",
    "\n",
    "    return S\n",
    "\n",
    "action_harmonic(positions, times, mass)"
   ],
   "id": "193b477d402f3956",
   "outputs": [
    {
     "data": {
      "text/plain": [
       "np.float64(6.70608412641973)"
      ]
     },
     "execution_count": 4,
     "metadata": {},
     "output_type": "execute_result"
    }
   ],
   "execution_count": 4
  },
  {
   "metadata": {},
   "cell_type": "markdown",
   "source": "# Generating the array of paths and weighting them in accordance with their action",
   "id": "b0b3786c16313577"
  },
  {
   "metadata": {
    "ExecuteTime": {
     "end_time": "2025-10-26T10:52:49.189600Z",
     "start_time": "2025-10-26T10:52:49.185507Z"
    }
   },
   "cell_type": "code",
   "source": [
    "#generate an array of paths\n",
    "paths = []\n",
    "for i in range(numb_paths):\n",
    "    p = Pos_Gen(x_0, x_N, steps)\n",
    "    paths.append(p)\n",
    "\n",
    "paths = np.array(paths)\n",
    "\n",
    "\n",
    "#calcualte the exponential of the action of each path\n",
    "exponential = []\n",
    "for i in range(len(paths)):\n",
    "    dt = times[1] - times[0]\n",
    "    w = np.exp(-action_harmonic(paths[i], times, mass))\n",
    "    exponential.append(w)\n",
    "print(exponential)\n",
    "\n",
    "# #need to integrate the exponential across all paths:\n",
    "# path_integral = []\n",
    "# for i in range(len(paths)):\n",
    "#     val = 0\n",
    "#     dx = paths[:,i+1] - paths[:,i]\n",
    "#     int = 5\n",
    "\n",
    "\n",
    "\n",
    "\n",
    "#structure of paths:\n",
    "#paths = [(array 1),(array 2),...,(array n)]\n",
    "#weights = [(weight of path 1),(weight of path 2),...,(weight of path n)]\n",
    "# total_weight = np.sum(weights)\n",
    "# stacked = np.vstack(paths)\n",
    "#\n",
    "# empty = []\n",
    "# for i in range(len(weights)):\n",
    "#     val = stacked[i,:]*weights[i]\n",
    "#     empty.append(val)\n",
    "#\n",
    "# weighted_paths = np.vstack(empty)\n",
    "#\n",
    "# mean_path = np.sum(weighted_paths, axis=0)/total_weight"
   ],
   "id": "fbf06215c5edd41b",
   "outputs": [
    {
     "name": "stdout",
     "output_type": "stream",
     "text": [
      "[np.float64(0.0025353237934988373), np.float64(0.0005659997036684349), np.float64(0.0005475320519503651), np.float64(0.005897291887460144), np.float64(0.00020871164383306535), np.float64(0.0025300491239983202), np.float64(0.0007559366748454631), np.float64(0.006281647834855963), np.float64(0.0055089065324159265), np.float64(0.0005001391058692793)]\n"
     ]
    }
   ],
   "execution_count": 5
  },
  {
   "metadata": {},
   "cell_type": "markdown",
   "source": "# Plotting the monte carlo path vs the theoretical path",
   "id": "c493d64ca7d88cf4"
  },
  {
   "metadata": {
    "ExecuteTime": {
     "end_time": "2025-10-26T10:52:49.709565Z",
     "start_time": "2025-10-26T10:52:49.705471Z"
    }
   },
   "cell_type": "code",
   "source": [
    "#creating the theoretical path\n",
    "#theoretical =[0, 0.0263, 0.0647, 0.1329, 0.2600,0.5139,1.0000]\n",
    "\n",
    "def schrodinger_ground_state(paths):\n",
    "    phi = (np.exp((-paths)/2))/(np.pi**0.25)\n",
    "    return phi**2\n",
    "\n",
    "theoretical_wavefunction = schrodinger_ground_state(np.linspace(x_0, x_N, steps))\n",
    "print(theoretical_wavefunction)"
   ],
   "id": "5b7437f7ad2ef941",
   "outputs": [
    {
     "name": "stdout",
     "output_type": "stream",
     "text": [
      "[0.56418958 0.4042595  0.28966459 0.20755375 0.14871876 0.10656165\n",
      " 0.07635476]\n"
     ]
    }
   ],
   "execution_count": 6
  },
  {
   "metadata": {
    "ExecuteTime": {
     "end_time": "2025-10-26T10:52:50.087553Z",
     "start_time": "2025-10-26T10:52:49.949895Z"
    }
   },
   "cell_type": "code",
   "source": [
    "#Plotting the weighted path\n",
    "\n",
    "plt.figure(1)\n",
    "\n",
    "plt.plot(times, mean_path, label = 'calculated', color = 'blue')\n",
    "plt.xlabel('Time (s)')\n",
    "plt.ylabel('Mean x position')\n",
    "plt.legend()\n",
    "plt.show()"
   ],
   "id": "b1197490f0f5ca8d",
   "outputs": [
    {
     "ename": "NameError",
     "evalue": "name 'mean_path' is not defined",
     "output_type": "error",
     "traceback": [
      "\u001B[31m---------------------------------------------------------------------------\u001B[39m",
      "\u001B[31mNameError\u001B[39m                                 Traceback (most recent call last)",
      "\u001B[36mCell\u001B[39m\u001B[36m \u001B[39m\u001B[32mIn[7]\u001B[39m\u001B[32m, line 5\u001B[39m\n\u001B[32m      1\u001B[39m \u001B[38;5;66;03m#Plotting the weighted path\u001B[39;00m\n\u001B[32m      3\u001B[39m plt.figure(\u001B[32m1\u001B[39m)\n\u001B[32m----> \u001B[39m\u001B[32m5\u001B[39m plt.plot(times, \u001B[43mmean_path\u001B[49m, label = \u001B[33m'\u001B[39m\u001B[33mcalculated\u001B[39m\u001B[33m'\u001B[39m, color = \u001B[33m'\u001B[39m\u001B[33mblue\u001B[39m\u001B[33m'\u001B[39m)\n\u001B[32m      6\u001B[39m plt.xlabel(\u001B[33m'\u001B[39m\u001B[33mTime (s)\u001B[39m\u001B[33m'\u001B[39m)\n\u001B[32m      7\u001B[39m plt.ylabel(\u001B[33m'\u001B[39m\u001B[33mMean x position\u001B[39m\u001B[33m'\u001B[39m)\n",
      "\u001B[31mNameError\u001B[39m: name 'mean_path' is not defined"
     ]
    },
    {
     "data": {
      "text/plain": [
       "<Figure size 640x480 with 0 Axes>"
      ]
     },
     "metadata": {},
     "output_type": "display_data",
     "jetTransient": {
      "display_id": null
     }
    }
   ],
   "execution_count": 7
  },
  {
   "metadata": {},
   "cell_type": "markdown",
   "source": "# Plotting monte carlo wavefunction vs ground state wave function",
   "id": "49d43e46cd77ca49"
  },
  {
   "metadata": {
    "ExecuteTime": {
     "end_time": "2025-10-26T10:52:50.651088Z",
     "start_time": "2025-10-26T10:52:50.541261Z"
    }
   },
   "cell_type": "code",
   "source": [
    "plt.figure(1)\n",
    "plt.plot(np.linspace(x_0,x_N,steps), theoretical_wavefunction, label = 'theoretical', color = 'blue', linestyle = '--')\n",
    "\n",
    "plt.legend()\n",
    "plt.xlabel('X Position')\n",
    "plt.ylabel('Wavefunction Value')\n",
    "plt.show()"
   ],
   "id": "5d8bf95816e6cd78",
   "outputs": [
    {
     "data": {
      "text/plain": [
       "<Figure size 640x480 with 1 Axes>"
      ],
      "image/png": "[encoded data removed]"
     },
     "metadata": {},
     "output_type": "display_data",
     "jetTransient": {
      "display_id": null
     }
    }
   ],
   "execution_count": 8
  },
  {
   "metadata": {
    "ExecuteTime": {
     "end_time": "2025-10-17T11:56:50.538193Z",
     "start_time": "2025-10-17T11:56:50.440034Z"
    }
   },
   "cell_type": "markdown",
   "source": "# Plot for poster",
   "id": "b57e5204f4802e1c"
  },
  {
   "metadata": {
    "ExecuteTime": {
     "end_time": "2025-10-26T10:52:51.160020Z",
     "start_time": "2025-10-26T10:52:51.131208Z"
    }
   },
   "cell_type": "code",
   "source": [
    "label = ['path 1','path 2','path 3','path 4','path 5']\n",
    "colors = ['blue', 'red', 'green', 'orange', 'purple']\n",
    "\n",
    "plt.figure(1)\n",
    "\n",
    "plt.plot(mean_path,times,  label = 'Mean Path', color = 'black')\n",
    "\n",
    "for i in range(len(label)):\n",
    "    plt.plot(paths[9*i+10],times, label = label[i], color = colors[i], alpha = 0.4, linestyle = '--')\n",
    "\n",
    "#plt.legend()\n",
    "plt.ylabel('Time (s)')\n",
    "plt.xlabel('x Position')\n",
    "plt.savefig(r\"C:\\Users\\Sebastian\\Documents\\University work\\Year 3\\Computational Physics\\mean_path_integral.svg\", bbox_inches='tight', format = 'svg')\n",
    "plt.show()"
   ],
   "id": "2743ecd4b886139b",
   "outputs": [
    {
     "ename": "NameError",
     "evalue": "name 'mean_path' is not defined",
     "output_type": "error",
     "traceback": [
      "\u001B[31m---------------------------------------------------------------------------\u001B[39m",
      "\u001B[31mNameError\u001B[39m                                 Traceback (most recent call last)",
      "\u001B[36mCell\u001B[39m\u001B[36m \u001B[39m\u001B[32mIn[9]\u001B[39m\u001B[32m, line 6\u001B[39m\n\u001B[32m      2\u001B[39m colors = [\u001B[33m'\u001B[39m\u001B[33mblue\u001B[39m\u001B[33m'\u001B[39m, \u001B[33m'\u001B[39m\u001B[33mred\u001B[39m\u001B[33m'\u001B[39m, \u001B[33m'\u001B[39m\u001B[33mgreen\u001B[39m\u001B[33m'\u001B[39m, \u001B[33m'\u001B[39m\u001B[33morange\u001B[39m\u001B[33m'\u001B[39m, \u001B[33m'\u001B[39m\u001B[33mpurple\u001B[39m\u001B[33m'\u001B[39m]\n\u001B[32m      4\u001B[39m plt.figure(\u001B[32m1\u001B[39m)\n\u001B[32m----> \u001B[39m\u001B[32m6\u001B[39m plt.plot(\u001B[43mmean_path\u001B[49m,times,  label = \u001B[33m'\u001B[39m\u001B[33mMean Path\u001B[39m\u001B[33m'\u001B[39m, color = \u001B[33m'\u001B[39m\u001B[33mblack\u001B[39m\u001B[33m'\u001B[39m)\n\u001B[32m      8\u001B[39m \u001B[38;5;28;01mfor\u001B[39;00m i \u001B[38;5;129;01min\u001B[39;00m \u001B[38;5;28mrange\u001B[39m(\u001B[38;5;28mlen\u001B[39m(label)):\n\u001B[32m      9\u001B[39m     plt.plot(paths[\u001B[32m9\u001B[39m*i+\u001B[32m10\u001B[39m],times, label = label[i], color = colors[i], alpha = \u001B[32m0.4\u001B[39m, linestyle = \u001B[33m'\u001B[39m\u001B[33m--\u001B[39m\u001B[33m'\u001B[39m)\n",
      "\u001B[31mNameError\u001B[39m: name 'mean_path' is not defined"
     ]
    },
    {
     "data": {
      "text/plain": [
       "<Figure size 640x480 with 0 Axes>"
      ]
     },
     "metadata": {},
     "output_type": "display_data",
     "jetTransient": {
      "display_id": null
     }
    }
   ],
   "execution_count": 9
  },
  {
   "metadata": {
    "ExecuteTime": {
     "end_time": "2025-10-26T10:52:51.447162Z",
     "start_time": "2025-10-26T10:52:51.445388Z"
    }
   },
   "cell_type": "code",
   "source": "",
   "id": "f1046a8328d869ca",
   "outputs": [],
   "execution_count": null
  },
  {
   "metadata": {},
   "cell_type": "code",
   "outputs": [],
   "execution_count": null,
   "source": "",
   "id": "f3c00812db058f94"
  }
 ],
 "metadata": {
  "kernelspec": {
   "display_name": "Python 3",
   "language": "python",
   "name": "python3"
  },
  "language_info": {
   "codemirror_mode": {
    "name": "ipython",
    "version": 2
   },
   "file_extension": ".py",
   "mimetype": "text/x-python",
   "name": "python",
   "nbconvert_exporter": "python",
   "pygments_lexer": "ipython2",
   "version": "2.7.6"
  }
 },
 "nbformat": 4,
 "nbformat_minor": 5
}
